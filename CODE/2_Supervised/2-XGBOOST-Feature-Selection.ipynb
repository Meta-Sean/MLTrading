{
 "cells": [
  {
   "cell_type": "markdown",
   "id": "0bd7552b",
   "metadata": {},
   "source": [
    "### Imports"
   ]
  },
  {
   "cell_type": "code",
   "execution_count": 1,
   "id": "cff7306c",
   "metadata": {},
   "outputs": [],
   "source": [
    "# Remove Future Warnings\n",
    "import warnings\n",
    "warnings.simplefilter(action='ignore', category=FutureWarning)\n",
    "\n",
    "# General\n",
    "import numpy as np\n",
    "\n",
    "# Data Management\n",
    "import pandas as pd\n",
    "from sklearn.model_selection import train_test_split\n",
    "\n",
    "# Machine Learning\n",
    "from xgboost import XGBClassifier\n",
    "from sklearn.model_selection import RandomizedSearchCV, cross_val_score\n",
    "from sklearn.model_selection import RepeatedStratifiedKFold\n",
    "\n",
    "# Evaluation\n",
    "from sklearn.metrics import precision_score\n",
    "\n",
    "# Reporting\n",
    "import matplotlib.pyplot as plt"
   ]
  },
  {
   "cell_type": "markdown",
   "id": "ba052341",
   "metadata": {},
   "source": [
    "### Import Preprocessed Data"
   ]
  },
  {
   "cell_type": "code",
   "execution_count": 2,
   "id": "f78ea51b",
   "metadata": {},
   "outputs": [
    {
     "data": {
      "text/html": [
       "<div>\n",
       "<style scoped>\n",
       "    .dataframe tbody tr th:only-of-type {\n",
       "        vertical-align: middle;\n",
       "    }\n",
       "\n",
       "    .dataframe tbody tr th {\n",
       "        vertical-align: top;\n",
       "    }\n",
       "\n",
       "    .dataframe thead th {\n",
       "        text-align: right;\n",
       "    }\n",
       "</style>\n",
       "<table border=\"1\" class=\"dataframe\">\n",
       "  <thead>\n",
       "    <tr style=\"text-align: right;\">\n",
       "      <th></th>\n",
       "      <th>Open</th>\n",
       "      <th>High</th>\n",
       "      <th>Low</th>\n",
       "      <th>Close</th>\n",
       "      <th>Volume</th>\n",
       "      <th>Returns</th>\n",
       "      <th>Range</th>\n",
       "      <th>Bench_C_Rets</th>\n",
       "      <th>RSI</th>\n",
       "      <th>RSI_Ret</th>\n",
       "      <th>...</th>\n",
       "      <th>MA_21</th>\n",
       "      <th>DOW</th>\n",
       "      <th>Roll_Rets</th>\n",
       "      <th>Avg_Range</th>\n",
       "      <th>Returns_T1</th>\n",
       "      <th>Range_T1</th>\n",
       "      <th>RSI_Ret_T1</th>\n",
       "      <th>Returns_T2</th>\n",
       "      <th>Range_T2</th>\n",
       "      <th>RSI_Ret_T2</th>\n",
       "    </tr>\n",
       "    <tr>\n",
       "      <th>Date</th>\n",
       "      <th></th>\n",
       "      <th></th>\n",
       "      <th></th>\n",
       "      <th></th>\n",
       "      <th></th>\n",
       "      <th></th>\n",
       "      <th></th>\n",
       "      <th></th>\n",
       "      <th></th>\n",
       "      <th></th>\n",
       "      <th></th>\n",
       "      <th></th>\n",
       "      <th></th>\n",
       "      <th></th>\n",
       "      <th></th>\n",
       "      <th></th>\n",
       "      <th></th>\n",
       "      <th></th>\n",
       "      <th></th>\n",
       "      <th></th>\n",
       "      <th></th>\n",
       "    </tr>\n",
       "  </thead>\n",
       "  <tbody>\n",
       "    <tr>\n",
       "      <th>2017-01-31</th>\n",
       "      <td>0.000878</td>\n",
       "      <td>0.053054</td>\n",
       "      <td>0.001615</td>\n",
       "      <td>970.403015</td>\n",
       "      <td>1.103895</td>\n",
       "      <td>0.054348</td>\n",
       "      <td>0.055442</td>\n",
       "      <td>-0.029463</td>\n",
       "      <td>60.205366</td>\n",
       "      <td>1.192634</td>\n",
       "      <td>...</td>\n",
       "      <td>885.613522</td>\n",
       "      <td>1</td>\n",
       "      <td>0.011408</td>\n",
       "      <td>0.057910</td>\n",
       "      <td>0.000964</td>\n",
       "      <td>0.003887</td>\n",
       "      <td>1.003974</td>\n",
       "      <td>-0.002272</td>\n",
       "      <td>0.004646</td>\n",
       "      <td>0.991144</td>\n",
       "    </tr>\n",
       "    <tr>\n",
       "      <th>2017-02-01</th>\n",
       "      <td>0.054272</td>\n",
       "      <td>0.017587</td>\n",
       "      <td>0.054056</td>\n",
       "      <td>989.023010</td>\n",
       "      <td>-0.087932</td>\n",
       "      <td>0.019188</td>\n",
       "      <td>0.018926</td>\n",
       "      <td>-0.009863</td>\n",
       "      <td>63.109498</td>\n",
       "      <td>1.048237</td>\n",
       "      <td>...</td>\n",
       "      <td>895.673808</td>\n",
       "      <td>2</td>\n",
       "      <td>0.007132</td>\n",
       "      <td>0.057381</td>\n",
       "      <td>0.054348</td>\n",
       "      <td>0.055442</td>\n",
       "      <td>1.192634</td>\n",
       "      <td>0.000964</td>\n",
       "      <td>0.003887</td>\n",
       "      <td>1.003974</td>\n",
       "    </tr>\n",
       "    <tr>\n",
       "      <th>2017-02-02</th>\n",
       "      <td>0.019630</td>\n",
       "      <td>0.024675</td>\n",
       "      <td>0.012855</td>\n",
       "      <td>1011.799988</td>\n",
       "      <td>-0.028572</td>\n",
       "      <td>0.023030</td>\n",
       "      <td>0.030816</td>\n",
       "      <td>0.012600</td>\n",
       "      <td>66.345006</td>\n",
       "      <td>1.051268</td>\n",
       "      <td>...</td>\n",
       "      <td>905.529332</td>\n",
       "      <td>3</td>\n",
       "      <td>0.008542</td>\n",
       "      <td>0.057675</td>\n",
       "      <td>0.019188</td>\n",
       "      <td>0.018926</td>\n",
       "      <td>1.048237</td>\n",
       "      <td>0.054348</td>\n",
       "      <td>0.055442</td>\n",
       "      <td>1.192634</td>\n",
       "    </tr>\n",
       "  </tbody>\n",
       "</table>\n",
       "<p>3 rows × 21 columns</p>\n",
       "</div>"
      ],
      "text/plain": [
       "                Open      High       Low        Close    Volume   Returns  \\\n",
       "Date                                                                        \n",
       "2017-01-31  0.000878  0.053054  0.001615   970.403015  1.103895  0.054348   \n",
       "2017-02-01  0.054272  0.017587  0.054056   989.023010 -0.087932  0.019188   \n",
       "2017-02-02  0.019630  0.024675  0.012855  1011.799988 -0.028572  0.023030   \n",
       "\n",
       "               Range  Bench_C_Rets        RSI   RSI_Ret  ...       MA_21  DOW  \\\n",
       "Date                                                     ...                    \n",
       "2017-01-31  0.055442     -0.029463  60.205366  1.192634  ...  885.613522    1   \n",
       "2017-02-01  0.018926     -0.009863  63.109498  1.048237  ...  895.673808    2   \n",
       "2017-02-02  0.030816      0.012600  66.345006  1.051268  ...  905.529332    3   \n",
       "\n",
       "            Roll_Rets  Avg_Range  Returns_T1  Range_T1  RSI_Ret_T1  \\\n",
       "Date                                                                 \n",
       "2017-01-31   0.011408   0.057910    0.000964  0.003887    1.003974   \n",
       "2017-02-01   0.007132   0.057381    0.054348  0.055442    1.192634   \n",
       "2017-02-02   0.008542   0.057675    0.019188  0.018926    1.048237   \n",
       "\n",
       "            Returns_T2  Range_T2  RSI_Ret_T2  \n",
       "Date                                          \n",
       "2017-01-31   -0.002272  0.004646    0.991144  \n",
       "2017-02-01    0.000964  0.003887    1.003974  \n",
       "2017-02-02    0.054348  0.055442    1.192634  \n",
       "\n",
       "[3 rows x 21 columns]"
      ]
     },
     "execution_count": 2,
     "metadata": {},
     "output_type": "execute_result"
    }
   ],
   "source": [
    "df = pd.read_csv(\"data/BTC-USD.csv\")\n",
    "df.set_index(\"Date\", inplace=True)\n",
    "df.head(3)"
   ]
  },
  {
   "cell_type": "markdown",
   "id": "720320c7",
   "metadata": {},
   "source": [
    "### Add Prediction Target"
   ]
  },
  {
   "cell_type": "code",
   "execution_count": 3,
   "id": "796ffb29",
   "metadata": {},
   "outputs": [],
   "source": [
    "# Specify Target\n",
    "df.loc[df[\"Range\"].shift(-1) > df[\"Avg_Range\"], \"TARGET\"] = 1\n",
    "df.loc[df[\"Range\"].shift(-1) <= df[\"Avg_Range\"], \"TARGET\"] = 0"
   ]
  },
  {
   "cell_type": "code",
   "execution_count": 4,
   "id": "9804b750",
   "metadata": {},
   "outputs": [
    {
     "data": {
      "text/plain": [
       "(array([2095]), array([21]))"
      ]
     },
     "execution_count": 4,
     "metadata": {},
     "output_type": "execute_result"
    }
   ],
   "source": [
    "# Check for NaNs\n",
    "nan_location = np.where(np.isnan(df))\n",
    "nan_location"
   ]
  },
  {
   "cell_type": "code",
   "execution_count": 5,
   "id": "caa0318d",
   "metadata": {},
   "outputs": [
    {
     "data": {
      "text/html": [
       "<div>\n",
       "<style scoped>\n",
       "    .dataframe tbody tr th:only-of-type {\n",
       "        vertical-align: middle;\n",
       "    }\n",
       "\n",
       "    .dataframe tbody tr th {\n",
       "        vertical-align: top;\n",
       "    }\n",
       "\n",
       "    .dataframe thead th {\n",
       "        text-align: right;\n",
       "    }\n",
       "</style>\n",
       "<table border=\"1\" class=\"dataframe\">\n",
       "  <thead>\n",
       "    <tr style=\"text-align: right;\">\n",
       "      <th></th>\n",
       "      <th>Open</th>\n",
       "      <th>High</th>\n",
       "      <th>Low</th>\n",
       "      <th>Close</th>\n",
       "      <th>Volume</th>\n",
       "      <th>Returns</th>\n",
       "      <th>Range</th>\n",
       "      <th>Bench_C_Rets</th>\n",
       "      <th>RSI</th>\n",
       "      <th>RSI_Ret</th>\n",
       "      <th>...</th>\n",
       "      <th>DOW</th>\n",
       "      <th>Roll_Rets</th>\n",
       "      <th>Avg_Range</th>\n",
       "      <th>Returns_T1</th>\n",
       "      <th>Range_T1</th>\n",
       "      <th>RSI_Ret_T1</th>\n",
       "      <th>Returns_T2</th>\n",
       "      <th>Range_T2</th>\n",
       "      <th>RSI_Ret_T2</th>\n",
       "      <th>TARGET</th>\n",
       "    </tr>\n",
       "    <tr>\n",
       "      <th>Date</th>\n",
       "      <th></th>\n",
       "      <th></th>\n",
       "      <th></th>\n",
       "      <th></th>\n",
       "      <th></th>\n",
       "      <th></th>\n",
       "      <th></th>\n",
       "      <th></th>\n",
       "      <th></th>\n",
       "      <th></th>\n",
       "      <th></th>\n",
       "      <th></th>\n",
       "      <th></th>\n",
       "      <th></th>\n",
       "      <th></th>\n",
       "      <th></th>\n",
       "      <th></th>\n",
       "      <th></th>\n",
       "      <th></th>\n",
       "      <th></th>\n",
       "      <th></th>\n",
       "    </tr>\n",
       "  </thead>\n",
       "  <tbody>\n",
       "    <tr>\n",
       "      <th>2022-10-23</th>\n",
       "      <td>0.001844</td>\n",
       "      <td>0.020708</td>\n",
       "      <td>-0.000421</td>\n",
       "      <td>19567.007812</td>\n",
       "      <td>0.374080</td>\n",
       "      <td>0.018680</td>\n",
       "      <td>0.027319</td>\n",
       "      <td>21.849943</td>\n",
       "      <td>52.470317</td>\n",
       "      <td>1.125770</td>\n",
       "      <td>...</td>\n",
       "      <td>6</td>\n",
       "      <td>0.016827</td>\n",
       "      <td>0.027681</td>\n",
       "      <td>0.001863</td>\n",
       "      <td>0.006054</td>\n",
       "      <td>1.013388</td>\n",
       "      <td>0.006231</td>\n",
       "      <td>0.024848</td>\n",
       "      <td>1.045301</td>\n",
       "      <td>0.0</td>\n",
       "    </tr>\n",
       "    <tr>\n",
       "      <th>2022-10-24</th>\n",
       "      <td>0.018744</td>\n",
       "      <td>-0.002928</td>\n",
       "      <td>0.004294</td>\n",
       "      <td>19345.572266</td>\n",
       "      <td>0.364839</td>\n",
       "      <td>-0.011317</td>\n",
       "      <td>0.019931</td>\n",
       "      <td>21.590646</td>\n",
       "      <td>48.902095</td>\n",
       "      <td>0.931995</td>\n",
       "      <td>...</td>\n",
       "      <td>0</td>\n",
       "      <td>0.024198</td>\n",
       "      <td>0.027553</td>\n",
       "      <td>0.018680</td>\n",
       "      <td>0.027319</td>\n",
       "      <td>1.125770</td>\n",
       "      <td>0.001863</td>\n",
       "      <td>0.006054</td>\n",
       "      <td>1.013388</td>\n",
       "      <td>1.0</td>\n",
       "    </tr>\n",
       "    <tr>\n",
       "      <th>2022-10-25</th>\n",
       "      <td>-0.011386</td>\n",
       "      <td>0.038761</td>\n",
       "      <td>0.002870</td>\n",
       "      <td>20095.857422</td>\n",
       "      <td>0.581390</td>\n",
       "      <td>0.038783</td>\n",
       "      <td>0.056432</td>\n",
       "      <td>22.462557</td>\n",
       "      <td>59.060854</td>\n",
       "      <td>1.207737</td>\n",
       "      <td>...</td>\n",
       "      <td>1</td>\n",
       "      <td>0.070106</td>\n",
       "      <td>0.028653</td>\n",
       "      <td>-0.011317</td>\n",
       "      <td>0.019931</td>\n",
       "      <td>0.931995</td>\n",
       "      <td>0.018680</td>\n",
       "      <td>0.027319</td>\n",
       "      <td>1.125770</td>\n",
       "      <td>1.0</td>\n",
       "    </tr>\n",
       "    <tr>\n",
       "      <th>2022-10-26</th>\n",
       "      <td>0.038629</td>\n",
       "      <td>0.028981</td>\n",
       "      <td>0.042295</td>\n",
       "      <td>20770.441406</td>\n",
       "      <td>0.233125</td>\n",
       "      <td>0.033568</td>\n",
       "      <td>0.042937</td>\n",
       "      <td>23.252913</td>\n",
       "      <td>65.669495</td>\n",
       "      <td>1.111895</td>\n",
       "      <td>...</td>\n",
       "      <td>2</td>\n",
       "      <td>0.081305</td>\n",
       "      <td>0.029099</td>\n",
       "      <td>0.038783</td>\n",
       "      <td>0.056432</td>\n",
       "      <td>1.207737</td>\n",
       "      <td>-0.011317</td>\n",
       "      <td>0.019931</td>\n",
       "      <td>0.931995</td>\n",
       "      <td>1.0</td>\n",
       "    </tr>\n",
       "    <tr>\n",
       "      <th>2022-10-27</th>\n",
       "      <td>0.033872</td>\n",
       "      <td>-0.004016</td>\n",
       "      <td>0.008929</td>\n",
       "      <td>20285.835938</td>\n",
       "      <td>-0.157410</td>\n",
       "      <td>-0.023331</td>\n",
       "      <td>0.029556</td>\n",
       "      <td>22.694091</td>\n",
       "      <td>58.378851</td>\n",
       "      <td>0.888980</td>\n",
       "      <td>...</td>\n",
       "      <td>3</td>\n",
       "      <td>0.063807</td>\n",
       "      <td>0.027577</td>\n",
       "      <td>0.033568</td>\n",
       "      <td>0.042937</td>\n",
       "      <td>1.111895</td>\n",
       "      <td>0.038783</td>\n",
       "      <td>0.056432</td>\n",
       "      <td>1.207737</td>\n",
       "      <td>0.0</td>\n",
       "    </tr>\n",
       "  </tbody>\n",
       "</table>\n",
       "<p>5 rows × 22 columns</p>\n",
       "</div>"
      ],
      "text/plain": [
       "                Open      High       Low         Close    Volume   Returns  \\\n",
       "Date                                                                         \n",
       "2022-10-23  0.001844  0.020708 -0.000421  19567.007812  0.374080  0.018680   \n",
       "2022-10-24  0.018744 -0.002928  0.004294  19345.572266  0.364839 -0.011317   \n",
       "2022-10-25 -0.011386  0.038761  0.002870  20095.857422  0.581390  0.038783   \n",
       "2022-10-26  0.038629  0.028981  0.042295  20770.441406  0.233125  0.033568   \n",
       "2022-10-27  0.033872 -0.004016  0.008929  20285.835938 -0.157410 -0.023331   \n",
       "\n",
       "               Range  Bench_C_Rets        RSI   RSI_Ret  ...  DOW  Roll_Rets  \\\n",
       "Date                                                     ...                   \n",
       "2022-10-23  0.027319     21.849943  52.470317  1.125770  ...    6   0.016827   \n",
       "2022-10-24  0.019931     21.590646  48.902095  0.931995  ...    0   0.024198   \n",
       "2022-10-25  0.056432     22.462557  59.060854  1.207737  ...    1   0.070106   \n",
       "2022-10-26  0.042937     23.252913  65.669495  1.111895  ...    2   0.081305   \n",
       "2022-10-27  0.029556     22.694091  58.378851  0.888980  ...    3   0.063807   \n",
       "\n",
       "            Avg_Range  Returns_T1  Range_T1  RSI_Ret_T1  Returns_T2  Range_T2  \\\n",
       "Date                                                                            \n",
       "2022-10-23   0.027681    0.001863  0.006054    1.013388    0.006231  0.024848   \n",
       "2022-10-24   0.027553    0.018680  0.027319    1.125770    0.001863  0.006054   \n",
       "2022-10-25   0.028653   -0.011317  0.019931    0.931995    0.018680  0.027319   \n",
       "2022-10-26   0.029099    0.038783  0.056432    1.207737   -0.011317  0.019931   \n",
       "2022-10-27   0.027577    0.033568  0.042937    1.111895    0.038783  0.056432   \n",
       "\n",
       "            RSI_Ret_T2  TARGET  \n",
       "Date                            \n",
       "2022-10-23    1.045301     0.0  \n",
       "2022-10-24    1.013388     1.0  \n",
       "2022-10-25    1.125770     1.0  \n",
       "2022-10-26    0.931995     1.0  \n",
       "2022-10-27    1.207737     0.0  \n",
       "\n",
       "[5 rows x 22 columns]"
      ]
     },
     "execution_count": 5,
     "metadata": {},
     "output_type": "execute_result"
    }
   ],
   "source": [
    "# Fill NA\n",
    "df[\"TARGET\"].fillna(0, inplace=True)\n",
    "df.tail()"
   ]
  },
  {
   "cell_type": "markdown",
   "id": "333e09d6",
   "metadata": {},
   "source": [
    "### Train Test Split"
   ]
  },
  {
   "cell_type": "code",
   "execution_count": 6,
   "id": "50dd89da",
   "metadata": {},
   "outputs": [],
   "source": [
    "# Remove unwanted columns\n",
    "df_tts = df.copy()\n",
    "df_tts.drop(columns=[\"Close\", \"Bench_C_Rets\", \"Open\", \"High\", \"Low\"], inplace=True)"
   ]
  },
  {
   "cell_type": "code",
   "execution_count": 7,
   "id": "1fba8eb1",
   "metadata": {},
   "outputs": [],
   "source": [
    "# Split into Learning (X) and Target (y) Data\n",
    "X = df_tts.iloc[:, : -1]\n",
    "y = df_tts.iloc[:, -1]"
   ]
  },
  {
   "cell_type": "code",
   "execution_count": 8,
   "id": "487df500",
   "metadata": {},
   "outputs": [
    {
     "name": "stdout",
     "output_type": "stream",
     "text": [
      "Shape of X_train:  (1676, 16)\n",
      "Shape of y_train:  (1676,)\n"
     ]
    }
   ],
   "source": [
    "# Perform Train Test Split\n",
    "X_train, X_test, y_train, y_test = train_test_split(X, y, test_size=0.2, random_state=42)\n",
    "print(\"Shape of X_train: \", X_train.shape)\n",
    "print(\"Shape of y_train: \", y_train.shape)"
   ]
  },
  {
   "cell_type": "markdown",
   "id": "3470201b",
   "metadata": {},
   "source": [
    "### Build Initial Model"
   ]
  },
  {
   "cell_type": "code",
   "execution_count": 9,
   "id": "fd071bc7",
   "metadata": {},
   "outputs": [],
   "source": [
    "# Select type of model to optimize for\n",
    "is_binary = True\n",
    "is_optimise_for_precision = True"
   ]
  },
  {
   "cell_type": "code",
   "execution_count": 10,
   "id": "43de140d",
   "metadata": {},
   "outputs": [],
   "source": [
    "# Determine Objective and Eval Metrics\n",
    "if is_binary:\n",
    "    objective = \"binary:logistic\"\n",
    "    eval_metric = \"logloss\"\n",
    "    eval_metric_list = [\"error\", \"logloss\", eval_metric]\n",
    "else:\n",
    "    objective = \"multi:softmax\"\n",
    "    eval_metric = \"mlogloss\"\n",
    "    eval_metric_list = [\"merror\", \"mlogloss\", eval_metric]"
   ]
  },
  {
   "cell_type": "code",
   "execution_count": 11,
   "id": "75b025dc",
   "metadata": {},
   "outputs": [],
   "source": [
    "# Refine Eval Metric\n",
    "if is_binary and is_optimise_for_precision:\n",
    "    eval_metric = \"aucpr\"\n",
    "    scoring = \"precision\"\n",
    "elif is_binary and not is_optimise_for_precision:\n",
    "    eval_metric = \"auc\"\n",
    "    scoring = \"f1\"\n",
    "else:\n",
    "    scoring = \"accuracy\""
   ]
  },
  {
   "cell_type": "code",
   "execution_count": 12,
   "id": "43e0d22f",
   "metadata": {},
   "outputs": [],
   "source": [
    "# Build First Classifier Model 0\n",
    "classifier_0 = XGBClassifier(\n",
    "    objective=objective,\n",
    "    booster=\"gbtree\",\n",
    "    eval_metric=eval_metric,\n",
    "    subsample=0.8,\n",
    "    colsample_bytree=1,\n",
    "    random_state=1,\n",
    "    use_label_encoder=False\n",
    ")"
   ]
  },
  {
   "cell_type": "markdown",
   "id": "94241d04",
   "metadata": {},
   "source": [
    "### Find Hyperparameters"
   ]
  },
  {
   "cell_type": "code",
   "execution_count": 13,
   "id": "64fbadbc",
   "metadata": {},
   "outputs": [],
   "source": [
    "# Provide Gris for Hyperparams\n",
    "param_grid = {\n",
    "    \"gamma\": [0, 0.1, 0.2, 0.5, 1, 1.5, 2, 3, 6, 12, 20],\n",
    "    \"learning_rate\": [0.01, 0.02, 0.03, 0.05, 0.1, 0.2, 0.3, 0.5, 0.7, 0.8],\n",
    "    \"max_depth\": [1, 2, 3, 4, 5, 6, 8, 12],\n",
    "    \"n_estimators\": [25, 50, 65, 80, 100, 115, 200]\n",
    "}"
   ]
  },
  {
   "cell_type": "code",
   "execution_count": 14,
   "id": "9c41c5e1",
   "metadata": {},
   "outputs": [
    {
     "name": "stdout",
     "output_type": "stream",
     "text": [
      "Recommended Params >> ne: 80, lr: 0.03 md: 12 gm: 12\n"
     ]
    }
   ],
   "source": [
    "# Perform Random Search for Best Hyper params\n",
    "grid_search = RandomizedSearchCV(estimator=classifier_0, param_distributions=param_grid, scoring=scoring)\n",
    "best_model = grid_search.fit(X_train, y_train)\n",
    "hyperparams = best_model.best_params_\n",
    "ne = hyperparams[\"n_estimators\"]\n",
    "lr = hyperparams[\"learning_rate\"]\n",
    "md = hyperparams[\"max_depth\"]\n",
    "gm = hyperparams[\"gamma\"]\n",
    "print(\"Recommended Params >>\", f\"ne: {ne},\", f\"lr: {lr}\", f\"md: {md}\", f\"gm: {gm}\")"
   ]
  },
  {
   "cell_type": "markdown",
   "id": "167d9494",
   "metadata": {},
   "source": [
    "### Train Model"
   ]
  },
  {
   "cell_type": "code",
   "execution_count": 15,
   "id": "0e61c852",
   "metadata": {},
   "outputs": [],
   "source": [
    "# Build Classification Model 1\n",
    "classifier_1 = XGBClassifier(\n",
    "    objective=objective,\n",
    "    booster=\"gbtree\",\n",
    "    eval_metric=eval_metric,\n",
    "    n_estimators=ne,\n",
    "    learning_rate=lr,\n",
    "    max_depth=md,\n",
    "    gamma=gm,\n",
    "    subsample=0.8,\n",
    "    colsample_bytree=1,\n",
    "    random_state=1,\n",
    "    use_label_encoder=False\n",
    ")"
   ]
  },
  {
   "cell_type": "code",
   "execution_count": 16,
   "id": "b305eaac",
   "metadata": {},
   "outputs": [
    {
     "data": {
      "text/plain": [
       "XGBClassifier(base_score=0.5, booster='gbtree', colsample_bylevel=1,\n",
       "              colsample_bynode=1, colsample_bytree=1, enable_categorical=False,\n",
       "              eval_metric='aucpr', gamma=12, gpu_id=-1, importance_type=None,\n",
       "              interaction_constraints='', learning_rate=0.03, max_delta_step=0,\n",
       "              max_depth=12, min_child_weight=1, missing=nan,\n",
       "              monotone_constraints='()', n_estimators=80, n_jobs=12,\n",
       "              num_parallel_tree=1, predictor='auto', random_state=1,\n",
       "              reg_alpha=0, reg_lambda=1, scale_pos_weight=1, subsample=0.8,\n",
       "              tree_method='exact', use_label_encoder=False,\n",
       "              validate_parameters=1, verbosity=None)"
      ]
     },
     "execution_count": 16,
     "metadata": {},
     "output_type": "execute_result"
    }
   ],
   "source": [
    "# Fit Model\n",
    "eval_set = [(X_train, y_train)]\n",
    "classifier_1.fit(\n",
    "    X_train,\n",
    "    y_train,\n",
    "    eval_metric=eval_metric_list,\n",
    "    eval_set=eval_set,\n",
    "    verbose=False\n",
    ")"
   ]
  },
  {
   "cell_type": "markdown",
   "id": "5628c136",
   "metadata": {},
   "source": [
    "### Performance Evaluation (Quick Overview)"
   ]
  },
  {
   "cell_type": "code",
   "execution_count": 17,
   "id": "daf8f3d5",
   "metadata": {},
   "outputs": [
    {
     "name": "stdout",
     "output_type": "stream",
     "text": [
      "Training Preds: \n",
      " [0 0 0 0 1]\n"
     ]
    }
   ],
   "source": [
    "# Get predictions for training data\n",
    "train_yhat = classifier_1.predict(X_train)\n",
    "print(\"Training Preds: \\n\", train_yhat[:5])"
   ]
  },
  {
   "cell_type": "code",
   "execution_count": 18,
   "id": "3cde7bcd",
   "metadata": {},
   "outputs": [],
   "source": [
    "# Set K-Fold Cross Validation Levels\n",
    "cv = RepeatedStratifiedKFold(n_splits=5, n_repeats=3, random_state=1)"
   ]
  },
  {
   "cell_type": "code",
   "execution_count": 19,
   "id": "0d3f2067",
   "metadata": {},
   "outputs": [],
   "source": [
    "# Training Results\n",
    "train_results = cross_val_score(classifier_1, X_train, y_train, scoring=scoring, cv=cv, n_jobs=1)"
   ]
  },
  {
   "cell_type": "code",
   "execution_count": 20,
   "id": "2b730a77",
   "metadata": {},
   "outputs": [
    {
     "name": "stdout",
     "output_type": "stream",
     "text": [
      "Average Accuracy K-Fold:  0.66\n",
      "Std Deviation K-Fold:  0.05\n",
      "Precision Score 0:  0.724\n",
      "Precision Score 1:  0.769\n",
      "\n",
      "Just for reference. Right now, we are only focussed on getting some initial features.\n",
      "If the results look too good to be true, they probably are.\n"
     ]
    }
   ],
   "source": [
    "# Brief Review of Training Results\n",
    "print(\"Average Accuracy K-Fold: \", round(train_results.mean(), 2))\n",
    "print(\"Std Deviation K-Fold: \", round(train_results.std(), 2))\n",
    "print(\"Precision Score 0: \", round(precision_score(y_train, train_yhat, average=None)[0], 3))\n",
    "print(\"Precision Score 1: \", round(precision_score(y_train, train_yhat, average=None)[1], 3))\n",
    "print(\"\")\n",
    "print(\"Just for reference. Right now, we are only focussed on getting some initial features.\")\n",
    "print(\"If the results look too good to be true, they probably are.\")"
   ]
  },
  {
   "cell_type": "markdown",
   "id": "7365ebf3",
   "metadata": {},
   "source": [
    "### Feature Selection"
   ]
  },
  {
   "cell_type": "code",
   "execution_count": 21,
   "id": "b06cdb41",
   "metadata": {},
   "outputs": [
    {
     "data": {
      "image/png": "[encoded data removed]",
      "text/plain": [
       "<Figure size 2200x500 with 1 Axes>"
      ]
     },
     "metadata": {},
     "output_type": "display_data"
    }
   ],
   "source": [
    "# Plot Feature Importances\n",
    "fig = plt.figure(figsize=(22, 5))\n",
    "importance_labels = X.columns\n",
    "importance_features = classifier_1.feature_importances_\n",
    "plt.bar(importance_labels, importance_features)\n",
    "plt.show()"
   ]
  },
  {
   "cell_type": "code",
   "execution_count": 22,
   "id": "bd9f163e",
   "metadata": {},
   "outputs": [],
   "source": [
    "# Select Best Features\n",
    "mean_feature_importance = importance_features.mean()\n",
    "i = 0\n",
    "recommended_feature_labels = []\n",
    "recommended_feature_score = []\n",
    "for fi in importance_features:\n",
    "    if fi > mean_feature_importance:\n",
    "        recommended_feature_labels.append(importance_labels[i])\n",
    "        recommended_feature_score.append(fi)\n",
    "    i += 1"
   ]
  },
  {
   "cell_type": "code",
   "execution_count": 23,
   "id": "f8570203",
   "metadata": {},
   "outputs": [
    {
     "data": {
      "image/png": "[encoded data removed]",
      "text/plain": [
       "<Figure size 1500x500 with 1 Axes>"
      ]
     },
     "metadata": {},
     "output_type": "display_data"
    }
   ],
   "source": [
    "# Plot Recommended Features\n",
    "fig = plt.figure(figsize=(15, 5))\n",
    "plt.bar(recommended_feature_labels, recommended_feature_score)\n",
    "plt.show()"
   ]
  },
  {
   "cell_type": "code",
   "execution_count": null,
   "id": "1dbfbe23",
   "metadata": {},
   "outputs": [],
   "source": []
  },
  {
   "cell_type": "code",
   "execution_count": null,
   "id": "19b0dec0",
   "metadata": {},
   "outputs": [],
   "source": []
  },
  {
   "cell_type": "code",
   "execution_count": null,
   "id": "b6e25c5f",
   "metadata": {},
   "outputs": [],
   "source": []
  }
 ],
 "metadata": {
  "kernelspec": {
   "display_name": "MLTrading",
   "language": "python",
   "name": "mltrading"
  },
  "language_info": {
   "codemirror_mode": {
    "name": "ipython",
    "version": 3
   },
   "file_extension": ".py",
   "mimetype": "text/x-python",
   "name": "python",
   "nbconvert_exporter": "python",
   "pygments_lexer": "ipython3",
   "version": "3.9.13"
  },
  "varInspector": {
   "cols": {
    "lenName": 16,
    "lenType": 16,
    "lenVar": 40
   },
   "kernels_config": {
    "python": {
     "delete_cmd_postfix": "",
     "delete_cmd_prefix": "del ",
     "library": "var_list.py",
     "varRefreshCmd": "print(var_dic_list())"
    },
    "r": {
     "delete_cmd_postfix": ") ",
     "delete_cmd_prefix": "rm(",
     "library": "var_list.r",
     "varRefreshCmd": "cat(var_dic_list()) "
    }
   },
   "types_to_exclude": [
    "module",
    "function",
    "builtin_function_or_method",
    "instance",
    "_Feature"
   ],
   "window_display": false
  }
 },
 "nbformat": 4,
 "nbformat_minor": 5
}
